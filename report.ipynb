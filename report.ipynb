{
 "cells": [
  {
   "cell_type": "code",
   "execution_count": null,
   "metadata": {
    "collapsed": true
   },
   "outputs": [],
   "source": [
    "from Approx import *\n",
    "import pandas as pd\n",
    "\n",
    "# Лабораторная работа 4, вариант 23\n",
    "# Задание 1\n",
    "\n",
    "population = [25.5, 29.5, 32.7, 35.6, 38.1, 38.5]\n",
    "years = [1950, 1960, 1970, 1980, 1990, 2000]\n",
    "poly = poly_inter(years, population)\n",
    "years.append(2010, 2020, 2010, 2020)\n",
    "population(38.3, 37.8, poly(2010), poly(2020))\n",
    "\n",
    "pd.DataFrame([years, population], columns=[\"Год\", \"Население (млн. человек)\"])\n"
   ]
  }
 ],
 "metadata": {
  "kernelspec": {
   "display_name": "Python 3",
   "language": "python",
   "name": "python3"
  },
  "language_info": {
   "codemirror_mode": {
    "name": "ipython",
    "version": 2
   },
   "file_extension": ".py",
   "mimetype": "text/x-python",
   "name": "python",
   "nbconvert_exporter": "python",
   "pygments_lexer": "ipython2",
   "version": "2.7.6"
  }
 },
 "nbformat": 4,
 "nbformat_minor": 0
}